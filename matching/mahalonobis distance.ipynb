{
 "cells": [
  {
   "cell_type": "code",
   "execution_count": 1,
   "id": "1330378b-42c4-4740-8d2c-8df431998cbd",
   "metadata": {},
   "outputs": [],
   "source": [
    "import numpy as np"
   ]
  },
  {
   "cell_type": "code",
   "execution_count": 2,
   "id": "72842cd1-52d3-4787-9352-3115050f02cc",
   "metadata": {},
   "outputs": [],
   "source": [
    "group_data = np.array([\n",
    "    [25, 1, 0],  # [age, t, sex]\n",
    "    [30, 0, 1],\n",
    "    [35, 1, 0],\n",
    "    [40, 0, 1]\n",
    "])\n",
    "single_observation = np.array([32, 1, 0])"
   ]
  },
  {
   "cell_type": "code",
   "execution_count": 3,
   "id": "6280a53d-6f30-491a-a68b-7874aa52dec7",
   "metadata": {},
   "outputs": [
    {
     "data": {
      "text/plain": [
       "array([32.5,  0.5,  0.5])"
      ]
     },
     "execution_count": 3,
     "metadata": {},
     "output_type": "execute_result"
    }
   ],
   "source": [
    "mean_vector = np.mean(group_data, axis=0)\n",
    "mean_vector"
   ]
  },
  {
   "cell_type": "code",
   "execution_count": 4,
   "id": "dc0e127d-8709-417c-9569-e67045861541",
   "metadata": {},
   "outputs": [
    {
     "data": {
      "text/plain": [
       "array([[41.66666667, -1.66666667,  1.66666667],\n",
       "       [-1.66666667,  0.33333333, -0.33333333],\n",
       "       [ 1.66666667, -0.33333333,  0.33333333]])"
      ]
     },
     "execution_count": 4,
     "metadata": {},
     "output_type": "execute_result"
    }
   ],
   "source": [
    "covariance_matrix = np.cov(group_data, rowvar=False)\n",
    "covariance_matrix"
   ]
  },
  {
   "cell_type": "code",
   "execution_count": 6,
   "id": "b8dd0310-d4ad-4e58-9b5d-2ad3390a65b9",
   "metadata": {},
   "outputs": [
    {
     "data": {
      "text/plain": [
       "array([[ 0.03  ,  0.075 , -0.075 ],\n",
       "       [ 0.075 ,  0.9375, -0.9375],\n",
       "       [-0.075 , -0.9375,  0.9375]])"
      ]
     },
     "execution_count": 6,
     "metadata": {},
     "output_type": "execute_result"
    }
   ],
   "source": [
    "covariance_matrix_pinv = np.linalg.pinv(covariance_matrix)\n",
    "covariance_matrix_pinv"
   ]
  },
  {
   "cell_type": "code",
   "execution_count": 11,
   "id": "c7218f4a-c31b-4232-bb62-078411246953",
   "metadata": {},
   "outputs": [
    {
     "name": "stdout",
     "output_type": "stream",
     "text": [
      "Mahalanobis Distance: 0.9327379053088815\n"
     ]
    }
   ],
   "source": [
    "diff = single_observation - mean_vector\n",
    "mahalanobis_distance = np.sqrt(diff.T @ covariance_matrix_pinv @ diff)\n",
    "print(f\"Mahalanobis Distance: {mahalanobis_distance}\")"
   ]
  },
  {
   "cell_type": "code",
   "execution_count": 8,
   "id": "a62d5c80-b2e1-49cb-9d51-c1fbb9e3de97",
   "metadata": {},
   "outputs": [],
   "source": [
    "from scipy.spatial.distance import mahalanobis"
   ]
  },
  {
   "cell_type": "code",
   "execution_count": 9,
   "id": "1ddb014f-748f-4813-abe0-82ce98b4fd93",
   "metadata": {},
   "outputs": [
    {
     "name": "stdout",
     "output_type": "stream",
     "text": [
      "Mahalanobis Distance (scipy, pseudo-inverse): 0.9327379053088815\n"
     ]
    }
   ],
   "source": [
    "distance_scipy = mahalanobis(single_observation, mean_vector, covariance_matrix_pinv)\n",
    "\n",
    "print(f\"Mahalanobis Distance (scipy, pseudo-inverse): {distance_scipy}\")"
   ]
  },
  {
   "cell_type": "code",
   "execution_count": 12,
   "id": "0070d346-0ac9-414a-ab98-a7f8f85904f5",
   "metadata": {},
   "outputs": [],
   "source": [
    "def mahalanobis_distance(x, mean, cov_inv):\n",
    "    diff = x - mean\n",
    "    return np.sqrt(np.dot(np.dot(diff.T, cov_inv), diff))"
   ]
  },
  {
   "cell_type": "code",
   "execution_count": 17,
   "id": "17f9f433-6e94-4242-aca6-5a70b7fe7829",
   "metadata": {},
   "outputs": [],
   "source": [
    "distances = []\n",
    "for i in range(group_data.shape[0]):\n",
    "    distance = mahalanobis_distance(group_data[i], single_observation, covariance_matrix_pinv)\n",
    "    distances.append(distance)"
   ]
  },
  {
   "cell_type": "code",
   "execution_count": 18,
   "id": "34f37d11-2629-4cea-9280-cd5ad4ae9c35",
   "metadata": {},
   "outputs": [
    {
     "name": "stdout",
     "output_type": "stream",
     "text": [
      "Distance to control 1: 1.21\n",
      "Distance to control 2: 2.11\n",
      "Distance to control 3: 0.52\n",
      "Distance to control 4: 1.81\n"
     ]
    }
   ],
   "source": [
    "for i, dist in enumerate(distances):\n",
    "    print(f\"Distance to control {i+1}: {dist:.2f}\")"
   ]
  },
  {
   "cell_type": "markdown",
   "id": "358d50d2-6e0c-42cf-ac75-89a1c24bc532",
   "metadata": {},
   "source": [
    "## Matching Effects"
   ]
  },
  {
   "cell_type": "code",
   "execution_count": 30,
   "id": "66719a0e-e153-4b32-aba1-8ad1c285ec97",
   "metadata": {},
   "outputs": [
    {
     "name": "stdout",
     "output_type": "stream",
     "text": [
      "Distances: [ 8.0452719   2.84        7.97296055 23.22154172 34.55447294 60.13      ]\n",
      "Causal effect (without matching): 29.67\n",
      "Causal effect (with matching): 18.00\n"
     ]
    }
   ],
   "source": [
    "import numpy as np\n",
    "from scipy.spatial.distance import cdist\n",
    "\n",
    "# Data\n",
    "treated = np.array([78.17, 0, 1])  # Treated individual\n",
    "control_data = np.array([\n",
    "    [70.25, 1, 0],  # Control 1\n",
    "    [75.33, 0, 1],  # Control 2\n",
    "    [86.08, 1, 1],  # Control 3\n",
    "    [54.97, 0, 0],  # Control 4\n",
    "    [43.63, 0, 0],  # Control 5\n",
    "    [18.04, 0, 1]   # Control 6\n",
    "])\n",
    "outcomes_control = np.array([60, 62, 70, 50, 40, 20])  \n",
    "outcome_treated = 80  \n",
    "\n",
    "distances = cdist([treated], control_data, metric='euclidean').flatten()\n",
    "print(\"Distances:\", distances)\n",
    "\n",
    "# Find the closest control \n",
    "nearest_idx = np.argmin(distances)\n",
    "matched_control = control_data[nearest_idx]\n",
    "matched_outcome = outcomes_control[nearest_idx]\n",
    "\n",
    "# Causal effect (without matching)\n",
    "causal_effect_unmatched = outcome_treated - np.mean(outcomes_control)\n",
    "# (with matching)\n",
    "causal_effect_matched = outcome_treated - matched_outcome\n",
    "\n",
    "print(f\"Causal effect (without matching): {causal_effect_unmatched:.2f}\")\n",
    "print(f\"Causal effect (with matching): {causal_effect_matched:.2f}\")\n"
   ]
  },
  {
   "cell_type": "code",
   "execution_count": 31,
   "id": "d072543f-445c-4990-b005-c50d3cb31f4e",
   "metadata": {},
   "outputs": [],
   "source": [
    "np.random.seed(42)\n",
    "n_controls = 100\n",
    "treated_large = np.array([78.17, 0, 1])\n",
    "control_data_large = np.random.uniform(low=10, high=100, size=(n_controls, 3))\n",
    "outcomes_control_large = np.random.uniform(low=10, high=90, size=n_controls)\n",
    "outcome_treated_large = 80"
   ]
  },
  {
   "cell_type": "code",
   "execution_count": 32,
   "id": "cfff372d-9b21-4a0f-89dd-1d97d2d1766b",
   "metadata": {},
   "outputs": [],
   "source": [
    "distances_large = cdist([treated_large], control_data_large, metric='euclidean').flatten()\n",
    "\n",
    "# Find the closest control (1 nearest neighbor)\n",
    "nearest_idx_large = np.argmin(distances_large)\n",
    "matched_control_large = control_data_large[nearest_idx_large]\n",
    "matched_outcome_large = outcomes_control_large[nearest_idx_large]\n"
   ]
  },
  {
   "cell_type": "code",
   "execution_count": 33,
   "id": "3aa21eda-d993-4e19-9320-d177da093838",
   "metadata": {},
   "outputs": [
    {
     "name": "stdout",
     "output_type": "stream",
     "text": [
      "Causal effect (without matching, large case): 30.71\n",
      "Causal effect (with matching, large case): 54.34\n"
     ]
    }
   ],
   "source": [
    "causal_effect_unmatched_large = outcome_treated_large - np.mean(outcomes_control_large)\n",
    "\n",
    "# Causal effect (with matching)\n",
    "causal_effect_matched_large = outcome_treated_large - matched_outcome_large\n",
    "\n",
    "print(f\"Causal effect (without matching, large case): {causal_effect_unmatched_large:.2f}\")\n",
    "print(f\"Causal effect (with matching, large case): {causal_effect_matched_large:.2f}\")"
   ]
  },
  {
   "cell_type": "code",
   "execution_count": 34,
   "id": "b32a71df-cbbf-405e-b250-d92d8f35ead0",
   "metadata": {},
   "outputs": [
    {
     "data": {
      "image/png": "[encoded data removed]",
      "text/plain": [
       "<Figure size 1000x600 with 1 Axes>"
      ]
     },
     "metadata": {},
     "output_type": "display_data"
    },
    {
     "name": "stderr",
     "output_type": "stream",
     "text": [
      "C:\\Users\\OMEN\\AppData\\Local\\Temp\\ipykernel_23016\\1303553493.py:53: SettingWithCopyWarning: \n",
      "A value is trying to be set on a copy of a slice from a DataFrame.\n",
      "Try using .loc[row_indexer,col_indexer] = value instead\n",
      "\n",
      "See the caveats in the documentation: https://pandas.pydata.org/pandas-docs/stable/user_guide/indexing.html#returning-a-view-versus-a-copy\n",
      "  treated['match_id'] = treated.index\n"
     ]
    },
    {
     "data": {
      "image/png": "[encoded data removed]",
      "text/plain": [
       "<Figure size 1000x600 with 1 Axes>"
      ]
     },
     "metadata": {},
     "output_type": "display_data"
    },
    {
     "name": "stdout",
     "output_type": "stream",
     "text": [
      "Estimated ATT (Average Treatment Effect on the Treated): 6.03\n",
      "Covariate Means Before Matching:\n",
      "          X1        X2\n",
      "T                    \n",
      "0 -0.513630 -0.522661\n",
      "1  0.413545  0.670533\n",
      "\n",
      "Covariate Means After Matching:\n",
      " X1_treated    0.413545\n",
      "X1_control    0.042874\n",
      "X2_treated    0.670533\n",
      "X2_control    0.197712\n",
      "dtype: float64\n"
     ]
    }
   ],
   "source": [
    "import numpy as np\n",
    "import pandas as pd\n",
    "import matplotlib.pyplot as plt\n",
    "from sklearn.neighbors import NearestNeighbors\n",
    "from scipy.stats import norm\n",
    "\n",
    "# 1. Simulating Data (similar to examples in causal inference texts)\n",
    "np.random.seed(42)\n",
    "\n",
    "# Covariates\n",
    "n = 200  # Total number of observations\n",
    "X1 = np.random.normal(0, 1, n)  # Covariate 1\n",
    "X2 = np.random.normal(0, 1, n)  # Covariate 2\n",
    "\n",
    "# Treatment assignment based on covariates (to introduce bias)\n",
    "T = (X1 + X2 + np.random.normal(0, 0.5, n)) > 0  # Treated if this > 0\n",
    "T = T.astype(int)\n",
    "\n",
    "# Potential outcomes\n",
    "Y0 = 3 + 2 * X1 + np.random.normal(0, 1, n)  # Control outcome\n",
    "Y1 = Y0 + 5  # Treatment effect is 5\n",
    "\n",
    "# Observed outcome\n",
    "Y = T * Y1 + (1 - T) * Y0\n",
    "\n",
    "# Create a DataFrame\n",
    "data = pd.DataFrame({\"X1\": X1, \"X2\": X2, \"T\": T, \"Y\": Y})\n",
    "\n",
    "# 2. Visualizing Data Before Matching\n",
    "plt.figure(figsize=(10, 6))\n",
    "plt.scatter(data[data['T'] == 1]['X1'], data[data['T'] == 1]['X2'], color='blue', label='Treated')\n",
    "plt.scatter(data[data['T'] == 0]['X1'], data[data['T'] == 0]['X2'], color='red', label='Control')\n",
    "plt.title(\"Covariates Before Matching\")\n",
    "plt.xlabel(\"X1\")\n",
    "plt.ylabel(\"X2\")\n",
    "plt.legend()\n",
    "plt.show()\n",
    "\n",
    "# 3. Nearest Neighbor Matching\n",
    "# Separate treated and control groups\n",
    "treated = data[data['T'] == 1]\n",
    "control = data[data['T'] == 0]\n",
    "\n",
    "# Using Nearest Neighbors to find matches\n",
    "nn = NearestNeighbors(n_neighbors=1, metric='euclidean')\n",
    "nn.fit(control[['X1', 'X2']])\n",
    "\n",
    "distances, indices = nn.kneighbors(treated[['X1', 'X2']])\n",
    "matched_control = control.iloc[indices.flatten()].copy()\n",
    "matched_control['match_id'] = treated.index\n",
    "\n",
    "# Combine matched treated and control\n",
    "treated['match_id'] = treated.index\n",
    "matched_data = pd.merge(treated, matched_control, on='match_id', suffixes=('_treated', '_control'))\n",
    "\n",
    "# 4. Visualizing Data After Matching\n",
    "plt.figure(figsize=(10, 6))\n",
    "plt.scatter(matched_data['X1_treated'], matched_data['X2_treated'], color='blue', label='Treated')\n",
    "plt.scatter(matched_data['X1_control'], matched_data['X2_control'], color='red', label='Control')\n",
    "plt.title(\"Covariates After Matching\")\n",
    "plt.xlabel(\"X1\")\n",
    "plt.ylabel(\"X2\")\n",
    "plt.legend()\n",
    "plt.show()\n",
    "\n",
    "# 5. Estimating Treatment Effect\n",
    "# Calculate ATT (Average Treatment effect on the Treated)\n",
    "matched_data['effect'] = matched_data['Y_treated'] - matched_data['Y_control']\n",
    "ATT = matched_data['effect'].mean()\n",
    "print(f\"Estimated ATT (Average Treatment Effect on the Treated): {ATT:.2f}\")\n",
    "\n",
    "# 6. Balance Check\n",
    "# Before Matching\n",
    "covariate_means = data.groupby('T')[['X1', 'X2']].mean()\n",
    "print(\"Covariate Means Before Matching:\\n\", covariate_means)\n",
    "\n",
    "# After Matching\n",
    "covariate_means_matched = matched_data[['X1_treated', 'X1_control', 'X2_treated', 'X2_control']]\n",
    "covariate_means_matched = covariate_means_matched.mean()\n",
    "print(\"\\nCovariate Means After Matching:\\n\", covariate_means_matched)\n"
   ]
  },
  {
   "cell_type": "code",
   "execution_count": null,
   "id": "f87d6c87-baf6-4311-a18c-bca68a178bbf",
   "metadata": {},
   "outputs": [],
   "source": []
  }
 ],
 "metadata": {
  "kernelspec": {
   "display_name": "torch",
   "language": "python",
   "name": "torch"
  },
  "language_info": {
   "codemirror_mode": {
    "name": "ipython",
    "version": 3
   },
   "file_extension": ".py",
   "mimetype": "text/x-python",
   "name": "python",
   "nbconvert_exporter": "python",
   "pygments_lexer": "ipython3",
   "version": "3.11.4"
  }
 },
 "nbformat": 4,
 "nbformat_minor": 5
}
