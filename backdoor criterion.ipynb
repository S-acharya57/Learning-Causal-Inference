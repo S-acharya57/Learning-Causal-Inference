{
 "cells": [
  {
   "cell_type": "code",
   "execution_count": 2,
   "metadata": {},
   "outputs": [
    {
     "name": "stdout",
     "output_type": "stream",
     "text": [
      "   X  Z         Y\n",
      "0  0  0 -0.877983\n",
      "1  1  1  4.173120\n",
      "2  0  1  1.773521\n",
      "3  0  1  2.367366\n",
      "4  1  0  3.913585\n"
     ]
    }
   ],
   "source": [
    "import numpy as np\n",
    "import pandas as pd\n",
    "import matplotlib.pyplot as plt\n",
    "\n",
    "np.random.seed(42)\n",
    "\n",
    "\n",
    "n = 1000\n",
    "Z = np.random.binomial(1, 0.5, n)  # Confounder\n",
    "\n",
    "X = np.random.binomial(1, 0.7 * Z + 0.3 * (1 - Z))\n",
    "\n",
    "# use X and Z both\n",
    "Y = 3 * X + 2 * Z + np.random.normal(0, 1, n)  # Outcome\n",
    "\n",
    "data = pd.DataFrame({'X': X, 'Z': Z, 'Y': Y})\n",
    "print(data.head())"
   ]
  },
  {
   "cell_type": "code",
   "execution_count": 3,
   "metadata": {},
   "outputs": [
    {
     "data": {
      "text/plain": [
       "(4,)"
      ]
     },
     "execution_count": 3,
     "metadata": {},
     "output_type": "execute_result"
    }
   ],
   "source": [
    "data.groupby(['X', 'Z'])['Y'].mean().shape"
   ]
  },
  {
   "cell_type": "code",
   "execution_count": 4,
   "metadata": {},
   "outputs": [
    {
     "data": {
      "text/plain": [
       "(Z         0         1\n",
       " X                    \n",
       " 0  0.008959  1.920737\n",
       " 1  3.095666  5.021463,\n",
       " (2, 2))"
      ]
     },
     "execution_count": 4,
     "metadata": {},
     "output_type": "execute_result"
    }
   ],
   "source": [
    "# average Y\n",
    "mean_y_x_z = data.groupby(['X', 'Z'])['Y'].mean().unstack() # unstack shapes the result into a table format \n",
    "mean_y_x_z, mean_y_x_z.shape "
   ]
  },
  {
   "attachments": {},
   "cell_type": "markdown",
   "metadata": {},
   "source": [
    "![](conditional_mean.JPG)"
   ]
  },
  {
   "cell_type": "markdown",
   "metadata": {},
   "source": [
    "$$\n",
    "Causal\\ Effect = P(Y | do(X=1)) - P(Y | do(X=0))  \n",
    "$$"
   ]
  },
  {
   "cell_type": "code",
   "execution_count": 13,
   "metadata": {},
   "outputs": [
    {
     "data": {
      "text/plain": [
       "(Z\n",
       " 0    3.095666\n",
       " 1    5.021463\n",
       " Name: 1, dtype: float64,\n",
       " Z\n",
       " 0    0.008959\n",
       " 1    1.920737\n",
       " Name: 0, dtype: float64)"
      ]
     },
     "execution_count": 13,
     "metadata": {},
     "output_type": "execute_result"
    }
   ],
   "source": [
    "mean_y_x_z.loc[1], mean_y_x_z.loc[0]"
   ]
  },
  {
   "cell_type": "code",
   "execution_count": 7,
   "metadata": {},
   "outputs": [
    {
     "data": {
      "text/plain": [
       "0    0\n",
       "1    1\n",
       "2    1\n",
       "3    1\n",
       "4    0\n",
       "Name: Z, dtype: int32"
      ]
     },
     "execution_count": 7,
     "metadata": {},
     "output_type": "execute_result"
    }
   ],
   "source": [
    "data['Z'][:5]"
   ]
  },
  {
   "cell_type": "code",
   "execution_count": 12,
   "metadata": {},
   "outputs": [
    {
     "data": {
      "text/plain": [
       "(Z\n",
       " 0    503\n",
       " 1    497\n",
       " Name: count, dtype: int64,\n",
       " Z\n",
       " 0    0.503\n",
       " 1    0.497\n",
       " Name: proportion, dtype: float64)"
      ]
     },
     "execution_count": 12,
     "metadata": {},
     "output_type": "execute_result"
    }
   ],
   "source": [
    "data['Z'].value_counts(), data['Z'].value_counts(normalize=True) "
   ]
  },
  {
   "cell_type": "markdown",
   "metadata": {},
   "source": [
    "`data['Z'].value_counts(normalize=True) ` tells how frequently each confounder value appears in the dataset.\n",
    "\n",
    "Product of conditional means(of Z) with respective probabilities in the data provides the conditional probability `(of X=0 or 1)`"
   ]
  },
  {
   "cell_type": "code",
   "execution_count": 15,
   "metadata": {},
   "outputs": [
    {
     "name": "stdout",
     "output_type": "stream",
     "text": [
      "Z\n",
      "0    1.557120\n",
      "1    2.495667\n",
      "dtype: float64\n"
     ]
    },
    {
     "data": {
      "text/plain": [
       "4.052787375035509"
      ]
     },
     "execution_count": 15,
     "metadata": {},
     "output_type": "execute_result"
    }
   ],
   "source": [
    "print(mean_y_x_z.loc[1] * data['Z'].value_counts(normalize=True))\n",
    "np.sum(mean_y_x_z.loc[1] * data['Z'].value_counts(normalize=True))"
   ]
  },
  {
   "cell_type": "code",
   "execution_count": 16,
   "metadata": {},
   "outputs": [
    {
     "data": {
      "text/plain": [
       "Z\n",
       "0    0.008959\n",
       "1    1.920737\n",
       "Name: 0, dtype: float64"
      ]
     },
     "execution_count": 16,
     "metadata": {},
     "output_type": "execute_result"
    }
   ],
   "source": [
    "mean_y_x_z.loc[0]"
   ]
  },
  {
   "cell_type": "code",
   "execution_count": 17,
   "metadata": {},
   "outputs": [
    {
     "name": "stdout",
     "output_type": "stream",
     "text": [
      "Z\n",
      "0    0.004506\n",
      "1    0.954606\n",
      "dtype: float64\n"
     ]
    },
    {
     "data": {
      "text/plain": [
       "0.9591122608565965"
      ]
     },
     "execution_count": 17,
     "metadata": {},
     "output_type": "execute_result"
    }
   ],
   "source": [
    "print(mean_y_x_z.loc[0] * data['Z'].value_counts(normalize=True))\n",
    "np.sum(mean_y_x_z.loc[0] * data['Z'].value_counts(normalize=True))"
   ]
  },
  {
   "cell_type": "code",
   "execution_count": 4,
   "metadata": {},
   "outputs": [
    {
     "name": "stdout",
     "output_type": "stream",
     "text": [
      "Estimated causal effect using backdoor criterion: 3.09\n"
     ]
    }
   ],
   "source": [
    "\n",
    "P_Y_do_X1 = np.sum(mean_y_x_z.loc[1] * data['Z'].value_counts(normalize=True))\n",
    "P_Y_do_X0 = np.sum(mean_y_x_z.loc[0] * data['Z'].value_counts(normalize=True))\n",
    "\n",
    "causal_effect_backdoor = P_Y_do_X1 - P_Y_do_X0\n",
    "print(f\"Estimated causal effect using backdoor criterion: {causal_effect_backdoor:.2f}\")"
   ]
  },
  {
   "cell_type": "code",
   "execution_count": null,
   "metadata": {},
   "outputs": [],
   "source": []
  },
  {
   "cell_type": "code",
   "execution_count": 18,
   "metadata": {},
   "outputs": [
    {
     "name": "stdout",
     "output_type": "stream",
     "text": [
      "Estimated Causal Effect (DoWhy): 3.09\n"
     ]
    },
    {
     "name": "stderr",
     "output_type": "stream",
     "text": [
      "D:\\After\\torch\\Lib\\site-packages\\dowhy\\causal_estimators\\regression_estimator.py:179: FutureWarning: Series.__getitem__ treating keys as positions is deprecated. In a future version, integer keys will always be treated as labels (consistent with DataFrame behavior). To access a value by position, use `ser.iloc[pos]`\n",
      "  intercept_parameter = self.model.params[0]\n"
     ]
    }
   ],
   "source": [
    "import dowhy\n",
    "from dowhy import CausalModel\n",
    "\n",
    "model = CausalModel(\n",
    "    data=data,\n",
    "    treatment='X',\n",
    "    outcome='Y',\n",
    "    common_causes=['Z']\n",
    ")\n",
    "\n",
    "\n",
    "# model.view_model(layout=\"dot\")\n",
    "# plt.show()\n",
    "\n",
    "identified_estimand = model.identify_effect()\n",
    "# print(\"Identified Estimand:\", identified_estimand)\n",
    "\n",
    "\n",
    "causal_estimate = model.estimate_effect(\n",
    "    identified_estimand,\n",
    "    method_name=\"backdoor.linear_regression\"\n",
    ")\n",
    "\n",
    "print(f\"Estimated Causal Effect (DoWhy): {causal_estimate.value:.2f}\")"
   ]
  },
  {
   "cell_type": "markdown",
   "metadata": {},
   "source": [
    "Thus, the estimated causal effect with backdoor from dowhy matches the backdoor causal effect implementation from scratch without dowhy library. 3.09 is the effect observed from both methods!"
   ]
  }
 ],
 "metadata": {
  "kernelspec": {
   "display_name": "Python 3 (ipykernel)",
   "language": "python",
   "name": "python3"
  },
  "language_info": {
   "codemirror_mode": {
    "name": "ipython",
    "version": 3
   },
   "file_extension": ".py",
   "mimetype": "text/x-python",
   "name": "python",
   "nbconvert_exporter": "python",
   "pygments_lexer": "ipython3",
   "version": "3.11.4"
  }
 },
 "nbformat": 4,
 "nbformat_minor": 4
}
