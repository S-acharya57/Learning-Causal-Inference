{
 "cells": [
  {
   "cell_type": "markdown",
   "metadata": {},
   "source": [
    "## Root Cause Analysis"
   ]
  },
  {
   "cell_type": "code",
   "execution_count": 1,
   "metadata": {},
   "outputs": [],
   "source": [
    "import pandas as pd\n",
    "import numpy as np "
   ]
  },
  {
   "cell_type": "code",
   "execution_count": null,
   "metadata": {},
   "outputs": [],
   "source": [
    "!pip install dowhy"
   ]
  },
  {
   "cell_type": "code",
   "execution_count": 2,
   "metadata": {
    "execution": {
     "iopub.execute_input": "2024-10-22T15:58:28.053043Z",
     "iopub.status.busy": "2024-10-22T15:58:28.052631Z",
     "iopub.status.idle": "2024-10-22T15:58:28.058833Z",
     "shell.execute_reply": "2024-10-22T15:58:28.057427Z",
     "shell.execute_reply.started": "2024-10-22T15:58:28.053006Z"
    }
   },
   "outputs": [],
   "source": [
    "import warnings\n",
    "\n",
    "warnings.filterwarnings('ignore')"
   ]
  },
  {
   "cell_type": "code",
   "execution_count": 4,
   "metadata": {
    "execution": {
     "iopub.execute_input": "2024-10-22T15:58:28.397450Z",
     "iopub.status.busy": "2024-10-22T15:58:28.397017Z",
     "iopub.status.idle": "2024-10-22T15:58:28.415838Z",
     "shell.execute_reply": "2024-10-22T15:58:28.414514Z",
     "shell.execute_reply.started": "2024-10-22T15:58:28.397409Z"
    }
   },
   "outputs": [
    {
     "data": {
      "text/html": [
       "<div>\n",
       "<style scoped>\n",
       "    .dataframe tbody tr th:only-of-type {\n",
       "        vertical-align: middle;\n",
       "    }\n",
       "\n",
       "    .dataframe tbody tr th {\n",
       "        vertical-align: top;\n",
       "    }\n",
       "\n",
       "    .dataframe thead th {\n",
       "        text-align: right;\n",
       "    }\n",
       "</style>\n",
       "<table border=\"1\" class=\"dataframe\">\n",
       "  <thead>\n",
       "    <tr style=\"text-align: right;\">\n",
       "      <th></th>\n",
       "      <th>ID</th>\n",
       "      <th>CPU_LOAD</th>\n",
       "      <th>MEMORY_LOAD</th>\n",
       "      <th>DELAY</th>\n",
       "      <th>ERROR_1000</th>\n",
       "      <th>ERROR_1001</th>\n",
       "      <th>ERROR_1002</th>\n",
       "      <th>ERROR_1003</th>\n",
       "      <th>ROOT_CAUSE</th>\n",
       "    </tr>\n",
       "  </thead>\n",
       "  <tbody>\n",
       "    <tr>\n",
       "      <th>0</th>\n",
       "      <td>1</td>\n",
       "      <td>0</td>\n",
       "      <td>0</td>\n",
       "      <td>0</td>\n",
       "      <td>0</td>\n",
       "      <td>1</td>\n",
       "      <td>0</td>\n",
       "      <td>1</td>\n",
       "      <td>MEMORY</td>\n",
       "    </tr>\n",
       "    <tr>\n",
       "      <th>1</th>\n",
       "      <td>2</td>\n",
       "      <td>0</td>\n",
       "      <td>0</td>\n",
       "      <td>0</td>\n",
       "      <td>0</td>\n",
       "      <td>0</td>\n",
       "      <td>0</td>\n",
       "      <td>1</td>\n",
       "      <td>MEMORY</td>\n",
       "    </tr>\n",
       "    <tr>\n",
       "      <th>2</th>\n",
       "      <td>3</td>\n",
       "      <td>0</td>\n",
       "      <td>1</td>\n",
       "      <td>1</td>\n",
       "      <td>0</td>\n",
       "      <td>0</td>\n",
       "      <td>1</td>\n",
       "      <td>1</td>\n",
       "      <td>MEMORY</td>\n",
       "    </tr>\n",
       "    <tr>\n",
       "      <th>3</th>\n",
       "      <td>4</td>\n",
       "      <td>0</td>\n",
       "      <td>1</td>\n",
       "      <td>0</td>\n",
       "      <td>1</td>\n",
       "      <td>1</td>\n",
       "      <td>0</td>\n",
       "      <td>1</td>\n",
       "      <td>MEMORY</td>\n",
       "    </tr>\n",
       "    <tr>\n",
       "      <th>4</th>\n",
       "      <td>5</td>\n",
       "      <td>1</td>\n",
       "      <td>1</td>\n",
       "      <td>0</td>\n",
       "      <td>1</td>\n",
       "      <td>0</td>\n",
       "      <td>1</td>\n",
       "      <td>0</td>\n",
       "      <td>NETWORK_DELAY</td>\n",
       "    </tr>\n",
       "  </tbody>\n",
       "</table>\n",
       "</div>"
      ],
      "text/plain": [
       "   ID  CPU_LOAD  MEMORY_LOAD  DELAY  ERROR_1000  ERROR_1001  ERROR_1002  \\\n",
       "0   1         0            0      0           0           1           0   \n",
       "1   2         0            0      0           0           0           0   \n",
       "2   3         0            1      1           0           0           1   \n",
       "3   4         0            1      0           1           1           0   \n",
       "4   5         1            1      0           1           0           1   \n",
       "\n",
       "   ERROR_1003     ROOT_CAUSE  \n",
       "0           1         MEMORY  \n",
       "1           1         MEMORY  \n",
       "2           1         MEMORY  \n",
       "3           1         MEMORY  \n",
       "4           0  NETWORK_DELAY  "
      ]
     },
     "metadata": {},
     "output_type": "display_data"
    }
   ],
   "source": [
    "df = pd.read_csv('root_cause_analysis.csv')\n",
    "display(df.head(5))"
   ]
  },
  {
   "cell_type": "code",
   "execution_count": 5,
   "metadata": {
    "execution": {
     "iopub.execute_input": "2024-10-22T15:58:28.776791Z",
     "iopub.status.busy": "2024-10-22T15:58:28.776375Z",
     "iopub.status.idle": "2024-10-22T15:58:28.790242Z",
     "shell.execute_reply": "2024-10-22T15:58:28.789069Z",
     "shell.execute_reply.started": "2024-10-22T15:58:28.776754Z"
    }
   },
   "outputs": [
    {
     "name": "stdout",
     "output_type": "stream",
     "text": [
      "<class 'pandas.core.frame.DataFrame'>\n",
      "RangeIndex: 1000 entries, 0 to 999\n",
      "Data columns (total 9 columns):\n",
      " #   Column       Non-Null Count  Dtype \n",
      "---  ------       --------------  ----- \n",
      " 0   ID           1000 non-null   int64 \n",
      " 1   CPU_LOAD     1000 non-null   int64 \n",
      " 2   MEMORY_LOAD  1000 non-null   int64 \n",
      " 3   DELAY        1000 non-null   int64 \n",
      " 4   ERROR_1000   1000 non-null   int64 \n",
      " 5   ERROR_1001   1000 non-null   int64 \n",
      " 6   ERROR_1002   1000 non-null   int64 \n",
      " 7   ERROR_1003   1000 non-null   int64 \n",
      " 8   ROOT_CAUSE   1000 non-null   object\n",
      "dtypes: int64(8), object(1)\n",
      "memory usage: 70.4+ KB\n"
     ]
    }
   ],
   "source": [
    "df.info()"
   ]
  },
  {
   "cell_type": "markdown",
   "metadata": {},
   "source": [
    "Determining which factors (CPU_LOAD, MEMORY_LOAD, DELAY) cause each of the four errors."
   ]
  },
  {
   "cell_type": "code",
   "execution_count": 26,
   "metadata": {
    "execution": {
     "iopub.execute_input": "2024-10-22T15:58:29.602877Z",
     "iopub.status.busy": "2024-10-22T15:58:29.602441Z",
     "iopub.status.idle": "2024-10-22T15:58:29.608284Z",
     "shell.execute_reply": "2024-10-22T15:58:29.606903Z",
     "shell.execute_reply.started": "2024-10-22T15:58:29.602835Z"
    }
   },
   "outputs": [],
   "source": [
    "import dowhy "
   ]
  },
  {
   "cell_type": "markdown",
   "metadata": {},
   "source": [
    "#### For Error_1000"
   ]
  },
  {
   "cell_type": "code",
   "execution_count": 27,
   "metadata": {
    "execution": {
     "iopub.execute_input": "2024-10-22T15:58:30.594668Z",
     "iopub.status.busy": "2024-10-22T15:58:30.594217Z",
     "iopub.status.idle": "2024-10-22T15:58:30.882724Z",
     "shell.execute_reply": "2024-10-22T15:58:30.881319Z",
     "shell.execute_reply.started": "2024-10-22T15:58:30.594625Z"
    }
   },
   "outputs": [
    {
     "data": {
      "image/png": "[encoded data removed]",
      "text/plain": [
       "<Figure size 800x600 with 1 Axes>"
      ]
     },
     "metadata": {},
     "output_type": "display_data"
    }
   ],
   "source": [
    "model_error1000 = dowhy.CausalModel(\n",
    "    data=df,\n",
    "    treatment=['CPU_LOAD', 'MEMORY_LOAD', 'DELAY'],\n",
    "    outcome='ERROR_1000'\n",
    ")\n",
    "model_error1000.view_model() "
   ]
  },
  {
   "cell_type": "code",
   "execution_count": 28,
   "metadata": {
    "execution": {
     "iopub.execute_input": "2024-10-22T15:58:30.892927Z",
     "iopub.status.busy": "2024-10-22T15:58:30.892520Z",
     "iopub.status.idle": "2024-10-22T15:58:30.902020Z",
     "shell.execute_reply": "2024-10-22T15:58:30.900739Z",
     "shell.execute_reply.started": "2024-10-22T15:58:30.892891Z"
    }
   },
   "outputs": [
    {
     "name": "stdout",
     "output_type": "stream",
     "text": [
      "Estimand type: EstimandType.NONPARAMETRIC_ATE\n",
      "\n",
      "### Estimand : 1\n",
      "Estimand name: backdoor\n",
      "Estimand expression:\n",
      "               d                             \n",
      "───────────────────────────────(E[ERROR₁₀₀₀])\n",
      "d[CPU_LOAD  MEMORY_LOAD  DELAY]              \n",
      "Estimand assumption 1, Unconfoundedness: If U→{CPU_LOAD,MEMORY_LOAD,DELAY} and U→ERROR_1000 then P(ERROR_1000|CPU_LOAD,MEMORY_LOAD,DELAY,,U) = P(ERROR_1000|CPU_LOAD,MEMORY_LOAD,DELAY,)\n",
      "\n",
      "### Estimand : 2\n",
      "Estimand name: iv\n",
      "No such variable(s) found!\n",
      "\n",
      "### Estimand : 3\n",
      "Estimand name: frontdoor\n",
      "No such variable(s) found!\n",
      "\n"
     ]
    }
   ],
   "source": [
    "identified_estimand = model_error1000.identify_effect()\n",
    "print(identified_estimand)"
   ]
  },
  {
   "cell_type": "code",
   "execution_count": 29,
   "metadata": {
    "execution": {
     "iopub.execute_input": "2024-10-22T15:58:32.086468Z",
     "iopub.status.busy": "2024-10-22T15:58:32.086038Z",
     "iopub.status.idle": "2024-10-22T15:58:32.116265Z",
     "shell.execute_reply": "2024-10-22T15:58:32.115072Z",
     "shell.execute_reply.started": "2024-10-22T15:58:32.086425Z"
    }
   },
   "outputs": [
    {
     "name": "stdout",
     "output_type": "stream",
     "text": [
      "*** Causal Estimate ***\n",
      "\n",
      "## Identified estimand\n",
      "Estimand type: EstimandType.NONPARAMETRIC_ATE\n",
      "\n",
      "### Estimand : 1\n",
      "Estimand name: backdoor\n",
      "Estimand expression:\n",
      "               d                             \n",
      "───────────────────────────────(E[ERROR₁₀₀₀])\n",
      "d[CPU_LOAD  MEMORY_LOAD  DELAY]              \n",
      "Estimand assumption 1, Unconfoundedness: If U→{CPU_LOAD,MEMORY_LOAD,DELAY} and U→ERROR_1000 then P(ERROR_1000|CPU_LOAD,MEMORY_LOAD,DELAY,,U) = P(ERROR_1000|CPU_LOAD,MEMORY_LOAD,DELAY,)\n",
      "\n",
      "## Realized estimand\n",
      "b: ERROR_1000~CPU_LOAD+MEMORY_LOAD+DELAY\n",
      "Target units: ate\n",
      "\n",
      "## Estimate\n",
      "Mean value: 0.10616994086399795\n",
      "\n"
     ]
    }
   ],
   "source": [
    "estimate = model_error1000.estimate_effect(identified_estimand, method_name=\"backdoor.linear_regression\")\n",
    "print(estimate)"
   ]
  },
  {
   "cell_type": "code",
   "execution_count": 30,
   "metadata": {
    "execution": {
     "iopub.execute_input": "2024-10-22T15:58:33.189890Z",
     "iopub.status.busy": "2024-10-22T15:58:33.189400Z",
     "iopub.status.idle": "2024-10-22T15:58:35.134831Z",
     "shell.execute_reply": "2024-10-22T15:58:35.133513Z",
     "shell.execute_reply.started": "2024-10-22T15:58:33.189848Z"
    }
   },
   "outputs": [
    {
     "name": "stdout",
     "output_type": "stream",
     "text": [
      "Refute: Add a random common cause\n",
      "Estimated effect:0.10616994086399795\n",
      "New effect:0.10604518167317373\n",
      "p value:0.92\n",
      "\n"
     ]
    }
   ],
   "source": [
    "refute_error1000 = model_error1000.refute_estimate(identified_estimand, estimate, method_name=\"random_common_cause\")\n",
    "print(refute_error1000)"
   ]
  },
  {
   "cell_type": "markdown",
   "metadata": {},
   "source": [
    "## Using NN for Root Cause Analysis "
   ]
  },
  {
   "cell_type": "code",
   "execution_count": 78,
   "metadata": {
    "execution": {
     "iopub.execute_input": "2024-10-22T16:21:25.638922Z",
     "iopub.status.busy": "2024-10-22T16:21:25.638443Z",
     "iopub.status.idle": "2024-10-22T16:21:25.649287Z",
     "shell.execute_reply": "2024-10-22T16:21:25.647824Z",
     "shell.execute_reply.started": "2024-10-22T16:21:25.638879Z"
    }
   },
   "outputs": [
    {
     "data": {
      "text/plain": [
       "Index(['ID', 'CPU_LOAD', 'MEMORY_LOAD', 'DELAY', 'ERROR_1000', 'ERROR_1001',\n",
       "       'ERROR_1002', 'ERROR_1003', 'ROOT_CAUSE'],\n",
       "      dtype='object')"
      ]
     },
     "execution_count": 78,
     "metadata": {},
     "output_type": "execute_result"
    }
   ],
   "source": [
    "df2 = df.copy()\n",
    "df2 = df2.drop(['result'], axis=1)\n",
    "df2.columns "
   ]
  },
  {
   "cell_type": "code",
   "execution_count": 79,
   "metadata": {
    "execution": {
     "iopub.execute_input": "2024-10-22T16:21:26.575378Z",
     "iopub.status.busy": "2024-10-22T16:21:26.574944Z",
     "iopub.status.idle": "2024-10-22T16:21:26.583439Z",
     "shell.execute_reply": "2024-10-22T16:21:26.582306Z",
     "shell.execute_reply.started": "2024-10-22T16:21:26.575330Z"
    }
   },
   "outputs": [
    {
     "data": {
      "text/plain": [
       "array([1, 2, 0])"
      ]
     },
     "execution_count": 79,
     "metadata": {},
     "output_type": "execute_result"
    }
   ],
   "source": [
    "df.result.unique()"
   ]
  },
  {
   "cell_type": "code",
   "execution_count": 80,
   "metadata": {
    "execution": {
     "iopub.execute_input": "2024-10-22T16:21:26.986382Z",
     "iopub.status.busy": "2024-10-22T16:21:26.985875Z",
     "iopub.status.idle": "2024-10-22T16:21:26.993500Z",
     "shell.execute_reply": "2024-10-22T16:21:26.992323Z",
     "shell.execute_reply.started": "2024-10-22T16:21:26.986339Z"
    }
   },
   "outputs": [],
   "source": [
    "from sklearn import preprocessing\n",
    "import torch\n",
    "from sklearn.model_selection import train_test_split\n",
    "import torch.nn as nn \n",
    "\n",
    "label_encoder = preprocessing.LabelEncoder()\n",
    "df2['ROOT_CAUSE'] = label_encoder.fit_transform(df2['ROOT_CAUSE'])"
   ]
  },
  {
   "cell_type": "code",
   "execution_count": 82,
   "metadata": {
    "execution": {
     "iopub.execute_input": "2024-10-22T16:21:37.803997Z",
     "iopub.status.busy": "2024-10-22T16:21:37.803444Z",
     "iopub.status.idle": "2024-10-22T16:21:37.876870Z",
     "shell.execute_reply": "2024-10-22T16:21:37.875511Z",
     "shell.execute_reply.started": "2024-10-22T16:21:37.803945Z"
    }
   },
   "outputs": [
    {
     "data": {
      "image/png": "[encoded data removed]",
      "text/latex": [
       "$\\displaystyle \\left( \\left( 1000, \\  7\\right), \\  \\left( 1000,\\right)\\right)$"
      ],
      "text/plain": [
       "((1000, 7), (1000,))"
      ]
     },
     "execution_count": 82,
     "metadata": {},
     "output_type": "execute_result"
    }
   ],
   "source": [
    "df_arr = df2.to_numpy().astype(float)\n",
    "\n",
    "X = df_arr[:, 1:8]\n",
    "y = df_arr[:, 8]\n",
    "X.shape, y.shape"
   ]
  },
  {
   "cell_type": "code",
   "execution_count": 84,
   "metadata": {
    "execution": {
     "iopub.execute_input": "2024-10-22T16:21:53.561058Z",
     "iopub.status.busy": "2024-10-22T16:21:53.560576Z",
     "iopub.status.idle": "2024-10-22T16:21:53.567208Z",
     "shell.execute_reply": "2024-10-22T16:21:53.565932Z",
     "shell.execute_reply.started": "2024-10-22T16:21:53.561007Z"
    }
   },
   "outputs": [],
   "source": [
    "X_train = torch.tensor(X, dtype=torch.float32)\n",
    "y_train = torch.tensor(y, dtype=torch.long)"
   ]
  },
  {
   "cell_type": "code",
   "execution_count": 86,
   "metadata": {
    "execution": {
     "iopub.execute_input": "2024-10-22T16:22:09.933708Z",
     "iopub.status.busy": "2024-10-22T16:22:09.932497Z",
     "iopub.status.idle": "2024-10-22T16:22:09.943524Z",
     "shell.execute_reply": "2024-10-22T16:22:09.942189Z",
     "shell.execute_reply.started": "2024-10-22T16:22:09.933645Z"
    }
   },
   "outputs": [
    {
     "data": {
      "text/plain": [
       "(torch.Size([800, 7]),\n",
       " torch.Size([200, 8]),\n",
       " torch.Size([800]),\n",
       " torch.Size([200]))"
      ]
     },
     "execution_count": 86,
     "metadata": {},
     "output_type": "execute_result"
    }
   ],
   "source": [
    "X_train, X_val, y_train, y_val = train_test_split(X_train, y_train, test_size=0.2, random_state=42)\n",
    "X_train.shape, X_test.shape, y_train.shape, y_test.shape"
   ]
  },
  {
   "cell_type": "code",
   "execution_count": 87,
   "metadata": {
    "execution": {
     "iopub.execute_input": "2024-10-22T16:22:39.563095Z",
     "iopub.status.busy": "2024-10-22T16:22:39.562680Z",
     "iopub.status.idle": "2024-10-22T16:22:39.571305Z",
     "shell.execute_reply": "2024-10-22T16:22:39.570045Z",
     "shell.execute_reply.started": "2024-10-22T16:22:39.563060Z"
    }
   },
   "outputs": [],
   "source": [
    "class ModelNN(nn.Module):\n",
    "    def __init__(self, input_size, output_size):\n",
    "        super(ModelNN, self).__init__()\n",
    "        self.fc1 = nn.Linear(input_size, 128)  \n",
    "        self.fc2 = nn.Linear(128, 128)          \n",
    "        self.fc3 = nn.Linear(128, output_size)  \n",
    "\n",
    "    def forward(self, x):\n",
    "        x = torch.relu(self.fc1(x))   \n",
    "        x = torch.relu(self.fc2(x))   \n",
    "        x = torch.softmax(self.fc3(x), dim=1)  \n",
    "        return x"
   ]
  },
  {
   "cell_type": "code",
   "execution_count": 97,
   "metadata": {
    "execution": {
     "iopub.execute_input": "2024-10-22T16:24:35.863768Z",
     "iopub.status.busy": "2024-10-22T16:24:35.863283Z",
     "iopub.status.idle": "2024-10-22T16:24:35.873804Z",
     "shell.execute_reply": "2024-10-22T16:24:35.872611Z",
     "shell.execute_reply.started": "2024-10-22T16:24:35.863722Z"
    }
   },
   "outputs": [
    {
     "data": {
      "text/plain": [
       "ModelNN(\n",
       "  (fc1): Linear(in_features=7, out_features=128, bias=True)\n",
       "  (fc2): Linear(in_features=128, out_features=128, bias=True)\n",
       "  (fc3): Linear(in_features=128, out_features=3, bias=True)\n",
       ")"
      ]
     },
     "execution_count": 97,
     "metadata": {},
     "output_type": "execute_result"
    }
   ],
   "source": [
    "EPOCHS = 200\n",
    "BATCH_SIZE = 100\n",
    "OUTPUT_CLASSES = len(label_encoder.classes_)\n",
    "\n",
    "model = ModelNN(input_size=X_train.shape[1], output_size=OUTPUT_CLASSES)\n",
    "model"
   ]
  },
  {
   "cell_type": "code",
   "execution_count": 98,
   "metadata": {
    "execution": {
     "iopub.execute_input": "2024-10-22T16:24:36.033443Z",
     "iopub.status.busy": "2024-10-22T16:24:36.032974Z",
     "iopub.status.idle": "2024-10-22T16:24:36.039830Z",
     "shell.execute_reply": "2024-10-22T16:24:36.038519Z",
     "shell.execute_reply.started": "2024-10-22T16:24:36.033399Z"
    }
   },
   "outputs": [],
   "source": [
    "criterion = nn.CrossEntropyLoss()\n",
    "optimizer = torch.optim.SGD(model.parameters(), lr=0.01)"
   ]
  },
  {
   "cell_type": "code",
   "execution_count": 99,
   "metadata": {
    "execution": {
     "iopub.execute_input": "2024-10-22T16:24:36.482092Z",
     "iopub.status.busy": "2024-10-22T16:24:36.481664Z",
     "iopub.status.idle": "2024-10-22T16:24:38.084081Z",
     "shell.execute_reply": "2024-10-22T16:24:38.082788Z",
     "shell.execute_reply.started": "2024-10-22T16:24:36.482049Z"
    }
   },
   "outputs": [
    {
     "name": "stdout",
     "output_type": "stream",
     "text": [
      "Epoch [1/200], Loss: 1.1021, Validation Loss: 1.0985, Validation Accuracy: 0.3200\n",
      "Epoch [2/200], Loss: 1.1012, Validation Loss: 1.0975, Validation Accuracy: 0.3200\n",
      "Epoch [3/200], Loss: 1.1003, Validation Loss: 1.0966, Validation Accuracy: 0.3200\n",
      "Epoch [4/200], Loss: 1.0995, Validation Loss: 1.0957, Validation Accuracy: 0.3200\n",
      "Epoch [5/200], Loss: 1.0986, Validation Loss: 1.0948, Validation Accuracy: 0.3200\n",
      "Epoch [6/200], Loss: 1.0978, Validation Loss: 1.0939, Validation Accuracy: 0.3200\n",
      "Epoch [7/200], Loss: 1.0969, Validation Loss: 1.0929, Validation Accuracy: 0.3200\n",
      "Epoch [8/200], Loss: 1.0960, Validation Loss: 1.0920, Validation Accuracy: 0.3200\n",
      "Epoch [9/200], Loss: 1.0952, Validation Loss: 1.0911, Validation Accuracy: 0.3200\n",
      "Epoch [10/200], Loss: 1.0943, Validation Loss: 1.0902, Validation Accuracy: 0.3200\n",
      "Epoch [11/200], Loss: 1.0935, Validation Loss: 1.0892, Validation Accuracy: 0.3200\n",
      "Epoch [12/200], Loss: 1.0926, Validation Loss: 1.0883, Validation Accuracy: 0.3250\n",
      "Epoch [13/200], Loss: 1.0917, Validation Loss: 1.0874, Validation Accuracy: 0.3550\n",
      "Epoch [14/200], Loss: 1.0909, Validation Loss: 1.0864, Validation Accuracy: 0.3750\n",
      "Epoch [15/200], Loss: 1.0900, Validation Loss: 1.0855, Validation Accuracy: 0.4050\n",
      "Epoch [16/200], Loss: 1.0891, Validation Loss: 1.0846, Validation Accuracy: 0.4350\n",
      "Epoch [17/200], Loss: 1.0883, Validation Loss: 1.0836, Validation Accuracy: 0.4950\n",
      "Epoch [18/200], Loss: 1.0874, Validation Loss: 1.0827, Validation Accuracy: 0.5000\n",
      "Epoch [19/200], Loss: 1.0865, Validation Loss: 1.0817, Validation Accuracy: 0.5100\n",
      "Epoch [20/200], Loss: 1.0856, Validation Loss: 1.0808, Validation Accuracy: 0.5200\n",
      "Epoch [21/200], Loss: 1.0848, Validation Loss: 1.0798, Validation Accuracy: 0.5750\n",
      "Epoch [22/200], Loss: 1.0839, Validation Loss: 1.0788, Validation Accuracy: 0.5750\n",
      "Epoch [23/200], Loss: 1.0830, Validation Loss: 1.0779, Validation Accuracy: 0.6100\n",
      "Epoch [24/200], Loss: 1.0821, Validation Loss: 1.0769, Validation Accuracy: 0.6100\n",
      "Epoch [25/200], Loss: 1.0812, Validation Loss: 1.0759, Validation Accuracy: 0.6250\n",
      "Epoch [26/200], Loss: 1.0803, Validation Loss: 1.0749, Validation Accuracy: 0.6100\n",
      "Epoch [27/200], Loss: 1.0794, Validation Loss: 1.0739, Validation Accuracy: 0.6300\n",
      "Epoch [28/200], Loss: 1.0785, Validation Loss: 1.0729, Validation Accuracy: 0.6300\n",
      "Epoch [29/200], Loss: 1.0775, Validation Loss: 1.0718, Validation Accuracy: 0.6300\n",
      "Epoch [30/200], Loss: 1.0766, Validation Loss: 1.0708, Validation Accuracy: 0.6300\n",
      "Epoch [31/200], Loss: 1.0757, Validation Loss: 1.0698, Validation Accuracy: 0.6600\n",
      "Epoch [32/200], Loss: 1.0747, Validation Loss: 1.0687, Validation Accuracy: 0.6600\n",
      "Epoch [33/200], Loss: 1.0738, Validation Loss: 1.0676, Validation Accuracy: 0.6850\n",
      "Epoch [34/200], Loss: 1.0728, Validation Loss: 1.0666, Validation Accuracy: 0.6850\n",
      "Epoch [35/200], Loss: 1.0718, Validation Loss: 1.0655, Validation Accuracy: 0.6850\n",
      "Epoch [36/200], Loss: 1.0708, Validation Loss: 1.0644, Validation Accuracy: 0.7150\n",
      "Epoch [37/200], Loss: 1.0698, Validation Loss: 1.0632, Validation Accuracy: 0.7250\n",
      "Epoch [38/200], Loss: 1.0688, Validation Loss: 1.0621, Validation Accuracy: 0.7300\n",
      "Epoch [39/200], Loss: 1.0678, Validation Loss: 1.0609, Validation Accuracy: 0.7300\n",
      "Epoch [40/200], Loss: 1.0667, Validation Loss: 1.0598, Validation Accuracy: 0.7300\n",
      "Epoch [41/200], Loss: 1.0657, Validation Loss: 1.0586, Validation Accuracy: 0.7300\n",
      "Epoch [42/200], Loss: 1.0646, Validation Loss: 1.0574, Validation Accuracy: 0.7300\n",
      "Epoch [43/200], Loss: 1.0635, Validation Loss: 1.0561, Validation Accuracy: 0.7450\n",
      "Epoch [44/200], Loss: 1.0624, Validation Loss: 1.0549, Validation Accuracy: 0.7450\n",
      "Epoch [45/200], Loss: 1.0613, Validation Loss: 1.0536, Validation Accuracy: 0.7600\n",
      "Epoch [46/200], Loss: 1.0602, Validation Loss: 1.0523, Validation Accuracy: 0.7600\n",
      "Epoch [47/200], Loss: 1.0591, Validation Loss: 1.0510, Validation Accuracy: 0.7600\n",
      "Epoch [48/200], Loss: 1.0579, Validation Loss: 1.0497, Validation Accuracy: 0.7600\n",
      "Epoch [49/200], Loss: 1.0567, Validation Loss: 1.0484, Validation Accuracy: 0.7600\n",
      "Epoch [50/200], Loss: 1.0555, Validation Loss: 1.0470, Validation Accuracy: 0.7500\n",
      "Epoch [51/200], Loss: 1.0543, Validation Loss: 1.0456, Validation Accuracy: 0.7500\n",
      "Epoch [52/200], Loss: 1.0531, Validation Loss: 1.0442, Validation Accuracy: 0.7500\n",
      "Epoch [53/200], Loss: 1.0518, Validation Loss: 1.0428, Validation Accuracy: 0.7500\n",
      "Epoch [54/200], Loss: 1.0506, Validation Loss: 1.0413, Validation Accuracy: 0.7500\n",
      "Epoch [55/200], Loss: 1.0493, Validation Loss: 1.0399, Validation Accuracy: 0.7550\n",
      "Epoch [56/200], Loss: 1.0480, Validation Loss: 1.0384, Validation Accuracy: 0.7550\n",
      "Epoch [57/200], Loss: 1.0467, Validation Loss: 1.0368, Validation Accuracy: 0.7550\n",
      "Epoch [58/200], Loss: 1.0453, Validation Loss: 1.0353, Validation Accuracy: 0.7550\n",
      "Epoch [59/200], Loss: 1.0440, Validation Loss: 1.0337, Validation Accuracy: 0.7550\n",
      "Epoch [60/200], Loss: 1.0426, Validation Loss: 1.0322, Validation Accuracy: 0.7550\n",
      "Epoch [61/200], Loss: 1.0412, Validation Loss: 1.0305, Validation Accuracy: 0.7550\n",
      "Epoch [62/200], Loss: 1.0398, Validation Loss: 1.0289, Validation Accuracy: 0.7550\n",
      "Epoch [63/200], Loss: 1.0383, Validation Loss: 1.0272, Validation Accuracy: 0.7550\n",
      "Epoch [64/200], Loss: 1.0369, Validation Loss: 1.0256, Validation Accuracy: 0.7550\n",
      "Epoch [65/200], Loss: 1.0354, Validation Loss: 1.0238, Validation Accuracy: 0.7550\n",
      "Epoch [66/200], Loss: 1.0339, Validation Loss: 1.0221, Validation Accuracy: 0.7550\n",
      "Epoch [67/200], Loss: 1.0324, Validation Loss: 1.0203, Validation Accuracy: 0.7550\n",
      "Epoch [68/200], Loss: 1.0308, Validation Loss: 1.0186, Validation Accuracy: 0.7550\n",
      "Epoch [69/200], Loss: 1.0293, Validation Loss: 1.0167, Validation Accuracy: 0.7700\n",
      "Epoch [70/200], Loss: 1.0277, Validation Loss: 1.0149, Validation Accuracy: 0.7700\n",
      "Epoch [71/200], Loss: 1.0261, Validation Loss: 1.0130, Validation Accuracy: 0.7700\n",
      "Epoch [72/200], Loss: 1.0245, Validation Loss: 1.0111, Validation Accuracy: 0.7700\n",
      "Epoch [73/200], Loss: 1.0228, Validation Loss: 1.0092, Validation Accuracy: 0.7700\n",
      "Epoch [74/200], Loss: 1.0211, Validation Loss: 1.0073, Validation Accuracy: 0.7650\n",
      "Epoch [75/200], Loss: 1.0194, Validation Loss: 1.0053, Validation Accuracy: 0.7650\n",
      "Epoch [76/200], Loss: 1.0177, Validation Loss: 1.0033, Validation Accuracy: 0.7650\n",
      "Epoch [77/200], Loss: 1.0160, Validation Loss: 1.0013, Validation Accuracy: 0.7650\n",
      "Epoch [78/200], Loss: 1.0142, Validation Loss: 0.9992, Validation Accuracy: 0.7650\n",
      "Epoch [79/200], Loss: 1.0125, Validation Loss: 0.9972, Validation Accuracy: 0.7650\n",
      "Epoch [80/200], Loss: 1.0107, Validation Loss: 0.9951, Validation Accuracy: 0.7650\n",
      "Epoch [81/200], Loss: 1.0089, Validation Loss: 0.9930, Validation Accuracy: 0.7650\n",
      "Epoch [82/200], Loss: 1.0070, Validation Loss: 0.9908, Validation Accuracy: 0.7650\n",
      "Epoch [83/200], Loss: 1.0052, Validation Loss: 0.9887, Validation Accuracy: 0.7650\n",
      "Epoch [84/200], Loss: 1.0033, Validation Loss: 0.9865, Validation Accuracy: 0.7650\n",
      "Epoch [85/200], Loss: 1.0014, Validation Loss: 0.9842, Validation Accuracy: 0.7650\n",
      "Epoch [86/200], Loss: 0.9995, Validation Loss: 0.9820, Validation Accuracy: 0.7650\n",
      "Epoch [87/200], Loss: 0.9976, Validation Loss: 0.9797, Validation Accuracy: 0.7700\n",
      "Epoch [88/200], Loss: 0.9957, Validation Loss: 0.9775, Validation Accuracy: 0.7850\n",
      "Epoch [89/200], Loss: 0.9937, Validation Loss: 0.9751, Validation Accuracy: 0.7850\n",
      "Epoch [90/200], Loss: 0.9917, Validation Loss: 0.9728, Validation Accuracy: 0.7850\n",
      "Epoch [91/200], Loss: 0.9897, Validation Loss: 0.9704, Validation Accuracy: 0.7850\n",
      "Epoch [92/200], Loss: 0.9877, Validation Loss: 0.9681, Validation Accuracy: 0.7850\n",
      "Epoch [93/200], Loss: 0.9856, Validation Loss: 0.9657, Validation Accuracy: 0.7850\n",
      "Epoch [94/200], Loss: 0.9836, Validation Loss: 0.9633, Validation Accuracy: 0.7850\n",
      "Epoch [95/200], Loss: 0.9815, Validation Loss: 0.9608, Validation Accuracy: 0.7850\n",
      "Epoch [96/200], Loss: 0.9794, Validation Loss: 0.9584, Validation Accuracy: 0.7850\n",
      "Epoch [97/200], Loss: 0.9773, Validation Loss: 0.9559, Validation Accuracy: 0.7850\n",
      "Epoch [98/200], Loss: 0.9752, Validation Loss: 0.9535, Validation Accuracy: 0.7850\n",
      "Epoch [99/200], Loss: 0.9731, Validation Loss: 0.9510, Validation Accuracy: 0.7850\n",
      "Epoch [100/200], Loss: 0.9710, Validation Loss: 0.9485, Validation Accuracy: 0.7900\n",
      "Epoch [101/200], Loss: 0.9688, Validation Loss: 0.9460, Validation Accuracy: 0.7900\n",
      "Epoch [102/200], Loss: 0.9667, Validation Loss: 0.9435, Validation Accuracy: 0.7900\n",
      "Epoch [103/200], Loss: 0.9645, Validation Loss: 0.9409, Validation Accuracy: 0.7900\n",
      "Epoch [104/200], Loss: 0.9623, Validation Loss: 0.9384, Validation Accuracy: 0.7900\n",
      "Epoch [105/200], Loss: 0.9601, Validation Loss: 0.9358, Validation Accuracy: 0.7900\n",
      "Epoch [106/200], Loss: 0.9579, Validation Loss: 0.9333, Validation Accuracy: 0.7950\n",
      "Epoch [107/200], Loss: 0.9558, Validation Loss: 0.9307, Validation Accuracy: 0.7950\n",
      "Epoch [108/200], Loss: 0.9536, Validation Loss: 0.9281, Validation Accuracy: 0.7950\n",
      "Epoch [109/200], Loss: 0.9514, Validation Loss: 0.9256, Validation Accuracy: 0.7950\n",
      "Epoch [110/200], Loss: 0.9492, Validation Loss: 0.9230, Validation Accuracy: 0.7950\n",
      "Epoch [111/200], Loss: 0.9470, Validation Loss: 0.9204, Validation Accuracy: 0.7950\n",
      "Epoch [112/200], Loss: 0.9448, Validation Loss: 0.9179, Validation Accuracy: 0.7950\n",
      "Epoch [113/200], Loss: 0.9426, Validation Loss: 0.9153, Validation Accuracy: 0.7950\n",
      "Epoch [114/200], Loss: 0.9404, Validation Loss: 0.9128, Validation Accuracy: 0.7950\n",
      "Epoch [115/200], Loss: 0.9382, Validation Loss: 0.9102, Validation Accuracy: 0.7950\n",
      "Epoch [116/200], Loss: 0.9360, Validation Loss: 0.9077, Validation Accuracy: 0.7950\n",
      "Epoch [117/200], Loss: 0.9338, Validation Loss: 0.9051, Validation Accuracy: 0.7950\n",
      "Epoch [118/200], Loss: 0.9317, Validation Loss: 0.9026, Validation Accuracy: 0.7950\n",
      "Epoch [119/200], Loss: 0.9295, Validation Loss: 0.9001, Validation Accuracy: 0.7950\n",
      "Epoch [120/200], Loss: 0.9274, Validation Loss: 0.8976, Validation Accuracy: 0.7950\n",
      "Epoch [121/200], Loss: 0.9252, Validation Loss: 0.8951, Validation Accuracy: 0.7950\n",
      "Epoch [122/200], Loss: 0.9231, Validation Loss: 0.8926, Validation Accuracy: 0.7950\n",
      "Epoch [123/200], Loss: 0.9210, Validation Loss: 0.8902, Validation Accuracy: 0.8150\n",
      "Epoch [124/200], Loss: 0.9189, Validation Loss: 0.8877, Validation Accuracy: 0.8150\n",
      "Epoch [125/200], Loss: 0.9168, Validation Loss: 0.8853, Validation Accuracy: 0.8150\n",
      "Epoch [126/200], Loss: 0.9147, Validation Loss: 0.8829, Validation Accuracy: 0.8150\n",
      "Epoch [127/200], Loss: 0.9127, Validation Loss: 0.8805, Validation Accuracy: 0.8150\n",
      "Epoch [128/200], Loss: 0.9107, Validation Loss: 0.8781, Validation Accuracy: 0.8150\n",
      "Epoch [129/200], Loss: 0.9086, Validation Loss: 0.8758, Validation Accuracy: 0.8150\n",
      "Epoch [130/200], Loss: 0.9066, Validation Loss: 0.8735, Validation Accuracy: 0.8150\n",
      "Epoch [131/200], Loss: 0.9047, Validation Loss: 0.8712, Validation Accuracy: 0.8150\n",
      "Epoch [132/200], Loss: 0.9027, Validation Loss: 0.8689, Validation Accuracy: 0.8150\n",
      "Epoch [133/200], Loss: 0.9008, Validation Loss: 0.8666, Validation Accuracy: 0.8150\n",
      "Epoch [134/200], Loss: 0.8988, Validation Loss: 0.8644, Validation Accuracy: 0.8150\n",
      "Epoch [135/200], Loss: 0.8969, Validation Loss: 0.8622, Validation Accuracy: 0.8150\n",
      "Epoch [136/200], Loss: 0.8950, Validation Loss: 0.8600, Validation Accuracy: 0.8200\n",
      "Epoch [137/200], Loss: 0.8932, Validation Loss: 0.8578, Validation Accuracy: 0.8200\n",
      "Epoch [138/200], Loss: 0.8914, Validation Loss: 0.8557, Validation Accuracy: 0.8200\n",
      "Epoch [139/200], Loss: 0.8895, Validation Loss: 0.8535, Validation Accuracy: 0.8200\n",
      "Epoch [140/200], Loss: 0.8878, Validation Loss: 0.8515, Validation Accuracy: 0.8200\n",
      "Epoch [141/200], Loss: 0.8860, Validation Loss: 0.8494, Validation Accuracy: 0.8200\n",
      "Epoch [142/200], Loss: 0.8843, Validation Loss: 0.8474, Validation Accuracy: 0.8200\n",
      "Epoch [143/200], Loss: 0.8826, Validation Loss: 0.8453, Validation Accuracy: 0.8200\n",
      "Epoch [144/200], Loss: 0.8809, Validation Loss: 0.8434, Validation Accuracy: 0.8200\n",
      "Epoch [145/200], Loss: 0.8792, Validation Loss: 0.8414, Validation Accuracy: 0.8200\n",
      "Epoch [146/200], Loss: 0.8776, Validation Loss: 0.8395, Validation Accuracy: 0.8200\n",
      "Epoch [147/200], Loss: 0.8760, Validation Loss: 0.8376, Validation Accuracy: 0.8200\n",
      "Epoch [148/200], Loss: 0.8744, Validation Loss: 0.8357, Validation Accuracy: 0.8200\n",
      "Epoch [149/200], Loss: 0.8728, Validation Loss: 0.8339, Validation Accuracy: 0.8300\n",
      "Epoch [150/200], Loss: 0.8713, Validation Loss: 0.8320, Validation Accuracy: 0.8450\n",
      "Epoch [151/200], Loss: 0.8698, Validation Loss: 0.8303, Validation Accuracy: 0.8450\n",
      "Epoch [152/200], Loss: 0.8683, Validation Loss: 0.8285, Validation Accuracy: 0.8450\n",
      "Epoch [153/200], Loss: 0.8668, Validation Loss: 0.8268, Validation Accuracy: 0.8450\n",
      "Epoch [154/200], Loss: 0.8654, Validation Loss: 0.8251, Validation Accuracy: 0.8450\n",
      "Epoch [155/200], Loss: 0.8640, Validation Loss: 0.8234, Validation Accuracy: 0.8450\n",
      "Epoch [156/200], Loss: 0.8626, Validation Loss: 0.8217, Validation Accuracy: 0.8450\n",
      "Epoch [157/200], Loss: 0.8612, Validation Loss: 0.8201, Validation Accuracy: 0.8450\n",
      "Epoch [158/200], Loss: 0.8599, Validation Loss: 0.8185, Validation Accuracy: 0.8400\n",
      "Epoch [159/200], Loss: 0.8586, Validation Loss: 0.8170, Validation Accuracy: 0.8400\n",
      "Epoch [160/200], Loss: 0.8573, Validation Loss: 0.8154, Validation Accuracy: 0.8400\n",
      "Epoch [161/200], Loss: 0.8560, Validation Loss: 0.8139, Validation Accuracy: 0.8400\n",
      "Epoch [162/200], Loss: 0.8548, Validation Loss: 0.8124, Validation Accuracy: 0.8400\n",
      "Epoch [163/200], Loss: 0.8535, Validation Loss: 0.8110, Validation Accuracy: 0.8400\n",
      "Epoch [164/200], Loss: 0.8523, Validation Loss: 0.8095, Validation Accuracy: 0.8400\n",
      "Epoch [165/200], Loss: 0.8512, Validation Loss: 0.8081, Validation Accuracy: 0.8400\n",
      "Epoch [166/200], Loss: 0.8500, Validation Loss: 0.8067, Validation Accuracy: 0.8400\n",
      "Epoch [167/200], Loss: 0.8489, Validation Loss: 0.8054, Validation Accuracy: 0.8400\n",
      "Epoch [168/200], Loss: 0.8477, Validation Loss: 0.8040, Validation Accuracy: 0.8400\n",
      "Epoch [169/200], Loss: 0.8466, Validation Loss: 0.8027, Validation Accuracy: 0.8400\n",
      "Epoch [170/200], Loss: 0.8456, Validation Loss: 0.8014, Validation Accuracy: 0.8400\n",
      "Epoch [171/200], Loss: 0.8445, Validation Loss: 0.8001, Validation Accuracy: 0.8400\n",
      "Epoch [172/200], Loss: 0.8435, Validation Loss: 0.7989, Validation Accuracy: 0.8400\n",
      "Epoch [173/200], Loss: 0.8424, Validation Loss: 0.7977, Validation Accuracy: 0.8400\n",
      "Epoch [174/200], Loss: 0.8414, Validation Loss: 0.7965, Validation Accuracy: 0.8400\n",
      "Epoch [175/200], Loss: 0.8405, Validation Loss: 0.7953, Validation Accuracy: 0.8400\n",
      "Epoch [176/200], Loss: 0.8395, Validation Loss: 0.7941, Validation Accuracy: 0.8400\n",
      "Epoch [177/200], Loss: 0.8386, Validation Loss: 0.7930, Validation Accuracy: 0.8400\n",
      "Epoch [178/200], Loss: 0.8376, Validation Loss: 0.7919, Validation Accuracy: 0.8400\n",
      "Epoch [179/200], Loss: 0.8367, Validation Loss: 0.7908, Validation Accuracy: 0.8400\n",
      "Epoch [180/200], Loss: 0.8358, Validation Loss: 0.7897, Validation Accuracy: 0.8400\n",
      "Epoch [181/200], Loss: 0.8350, Validation Loss: 0.7886, Validation Accuracy: 0.8400\n",
      "Epoch [182/200], Loss: 0.8341, Validation Loss: 0.7876, Validation Accuracy: 0.8400\n",
      "Epoch [183/200], Loss: 0.8332, Validation Loss: 0.7866, Validation Accuracy: 0.8400\n",
      "Epoch [184/200], Loss: 0.8324, Validation Loss: 0.7856, Validation Accuracy: 0.8400\n",
      "Epoch [185/200], Loss: 0.8316, Validation Loss: 0.7846, Validation Accuracy: 0.8400\n",
      "Epoch [186/200], Loss: 0.8308, Validation Loss: 0.7836, Validation Accuracy: 0.8400\n",
      "Epoch [187/200], Loss: 0.8300, Validation Loss: 0.7827, Validation Accuracy: 0.8400\n",
      "Epoch [188/200], Loss: 0.8292, Validation Loss: 0.7817, Validation Accuracy: 0.8400\n",
      "Epoch [189/200], Loss: 0.8285, Validation Loss: 0.7808, Validation Accuracy: 0.8400\n",
      "Epoch [190/200], Loss: 0.8277, Validation Loss: 0.7799, Validation Accuracy: 0.8400\n",
      "Epoch [191/200], Loss: 0.8270, Validation Loss: 0.7791, Validation Accuracy: 0.8400\n",
      "Epoch [192/200], Loss: 0.8263, Validation Loss: 0.7782, Validation Accuracy: 0.8400\n",
      "Epoch [193/200], Loss: 0.8256, Validation Loss: 0.7773, Validation Accuracy: 0.8400\n",
      "Epoch [194/200], Loss: 0.8249, Validation Loss: 0.7765, Validation Accuracy: 0.8400\n",
      "Epoch [195/200], Loss: 0.8242, Validation Loss: 0.7757, Validation Accuracy: 0.8400\n",
      "Epoch [196/200], Loss: 0.8235, Validation Loss: 0.7749, Validation Accuracy: 0.8400\n",
      "Epoch [197/200], Loss: 0.8229, Validation Loss: 0.7741, Validation Accuracy: 0.8400\n",
      "Epoch [198/200], Loss: 0.8223, Validation Loss: 0.7733, Validation Accuracy: 0.8400\n",
      "Epoch [199/200], Loss: 0.8216, Validation Loss: 0.7725, Validation Accuracy: 0.8400\n",
      "Epoch [200/200], Loss: 0.8210, Validation Loss: 0.7718, Validation Accuracy: 0.8400\n"
     ]
    }
   ],
   "source": [
    "for epoch in range(EPOCHS):\n",
    "    model.train()  \n",
    "    for i in range(0, len(X_train), BATCH_SIZE):\n",
    "        \n",
    "        X_batch = X_train[i:i + BATCH_SIZE]\n",
    "        y_batch = y_train[i:i + BATCH_SIZE]\n",
    "\n",
    "        optimizer.zero_grad()\n",
    "\n",
    "        \n",
    "        outputs = model(X_batch)\n",
    "        \n",
    "        loss = criterion(outputs, y_batch)\n",
    "        \n",
    "        loss.backward()\n",
    "        optimizer.step()\n",
    "\n",
    "    # Validation\n",
    "    model.eval()  \n",
    "    with torch.no_grad():\n",
    "        val_outputs = model(X_val)\n",
    "        val_loss = criterion(val_outputs, y_val)\n",
    "        _, predicted = torch.max(val_outputs, 1)\n",
    "        val_accuracy = (predicted == y_val).sum().item() / len(y_val)\n",
    "\n",
    "    print(f'Epoch [{epoch+1}/{EPOCHS}], Loss: {loss.item():.4f}, Validation Loss: {val_loss.item():.4f}, Validation Accuracy: {val_accuracy:.4f}')\n"
   ]
  },
  {
   "cell_type": "code",
   "execution_count": 104,
   "metadata": {
    "execution": {
     "iopub.execute_input": "2024-10-22T16:26:49.022149Z",
     "iopub.status.busy": "2024-10-22T16:26:49.021638Z",
     "iopub.status.idle": "2024-10-22T16:26:49.036160Z",
     "shell.execute_reply": "2024-10-22T16:26:49.034786Z",
     "shell.execute_reply.started": "2024-10-22T16:26:49.022101Z"
    }
   },
   "outputs": [
    {
     "name": "stdout",
     "output_type": "stream",
     "text": [
      "Predicted Root Cause: MEMORY\n"
     ]
    }
   ],
   "source": [
    "CPU_LOAD = 1\n",
    "MEMORY_LOAD = 0\n",
    "DELAY = 1\n",
    "ERROR_1000 = 0\n",
    "ERROR_1001 = 0\n",
    "ERROR_1002 = 0\n",
    "ERROR_1003 = 1\n",
    "\n",
    "input_data = torch.tensor([[CPU_LOAD, MEMORY_LOAD, DELAY,\n",
    "                             ERROR_1000, ERROR_1001, ERROR_1002, ERROR_1003]], \n",
    "                           dtype=torch.float32)\n",
    "model.eval()\n",
    "\n",
    "with torch.no_grad():  \n",
    "    prediction_logits = model(input_data)  \n",
    "    prediction = torch.argmax(prediction_logits, dim=1)  \n",
    "\n",
    "predicted_root_cause = label_encoder.inverse_transform(prediction.numpy())\n",
    "\n",
    "print(f\"Predicted Root Cause: {predicted_root_cause[0]}\")"
   ]
  },
  {
   "cell_type": "code",
   "execution_count": null,
   "metadata": {},
   "outputs": [],
   "source": []
  }
 ],
 "metadata": {
  "kaggle": {
   "accelerator": "none",
   "dataSources": [
    {
     "datasetId": 5277513,
     "sourceId": 8780129,
     "sourceType": "datasetVersion"
    }
   ],
   "dockerImageVersionId": 30786,
   "isGpuEnabled": false,
   "isInternetEnabled": true,
   "language": "python",
   "sourceType": "notebook"
  },
  "kernelspec": {
   "display_name": "Python 3",
   "language": "python",
   "name": "python3"
  },
  "language_info": {
   "codemirror_mode": {
    "name": "ipython",
    "version": 3
   },
   "file_extension": ".py",
   "mimetype": "text/x-python",
   "name": "python",
   "nbconvert_exporter": "python",
   "pygments_lexer": "ipython3",
   "version": "3.11.4"
  }
 },
 "nbformat": 4,
 "nbformat_minor": 4
}
