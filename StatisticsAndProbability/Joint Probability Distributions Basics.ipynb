{
 "cells": [
  {
   "cell_type": "code",
   "execution_count": 16,
   "id": "f0068938-0f3f-4dca-929d-cab30247e684",
   "metadata": {},
   "outputs": [],
   "source": [
    "import warnings\n",
    "\n",
    "warnings.filterwarnings('ignore')"
   ]
  },
  {
   "cell_type": "markdown",
   "id": "ad138181-840d-43f8-ad0b-8baf34220009",
   "metadata": {},
   "source": [
    "# Contents\n",
    "\n",
    "1. Joint Probability Distributions\n",
    "2. Marginal Probability (Sum Rule)\n",
    "3. Conditional Probability\n",
    "4. Product Rule\n",
    "5. Visualization\n",
    "6. Expectation and Variance"
   ]
  },
  {
   "cell_type": "markdown",
   "id": "5fbde8a3-a54b-42a4-a52d-914036a9fe75",
   "metadata": {
    "jp-MarkdownHeadingCollapsed": true
   },
   "source": [
    "### 1. Joint Probability Distributions\n",
    "\n",
    "The joint probability of two random variables 𝑋 and 𝑌, denoted P(X,Y), describes the probability that X takes on a specific value x, and Y takes on a specific value y, simultaneously. It represents the likelihood of two events happening together.\n"
   ]
  },
  {
   "cell_type": "code",
   "execution_count": 17,
   "id": "924c7240-0fd8-48e8-800b-ac519042467e",
   "metadata": {},
   "outputs": [],
   "source": [
    "import numpy as np\n",
    "import matplotlib.pyplot as plt\n",
    "import seaborn as sns\n",
    "import pandas as pd"
   ]
  },
  {
   "cell_type": "code",
   "execution_count": 18,
   "id": "c1eb6e7b-6858-409f-9c03-f3747da20cc1",
   "metadata": {},
   "outputs": [
    {
     "data": {
      "text/html": [
       "<div>\n",
       "<style scoped>\n",
       "    .dataframe tbody tr th:only-of-type {\n",
       "        vertical-align: middle;\n",
       "    }\n",
       "\n",
       "    .dataframe tbody tr th {\n",
       "        vertical-align: top;\n",
       "    }\n",
       "\n",
       "    .dataframe thead th {\n",
       "        text-align: right;\n",
       "    }\n",
       "</style>\n",
       "<table border=\"1\" class=\"dataframe\">\n",
       "  <thead>\n",
       "    <tr style=\"text-align: right;\">\n",
       "      <th></th>\n",
       "      <th>Sunny</th>\n",
       "      <th>Rainy</th>\n",
       "    </tr>\n",
       "  </thead>\n",
       "  <tbody>\n",
       "    <tr>\n",
       "      <th>Happy</th>\n",
       "      <td>0.4</td>\n",
       "      <td>0.2</td>\n",
       "    </tr>\n",
       "    <tr>\n",
       "      <th>Sad</th>\n",
       "      <td>0.1</td>\n",
       "      <td>0.3</td>\n",
       "    </tr>\n",
       "  </tbody>\n",
       "</table>\n",
       "</div>"
      ],
      "text/plain": [
       "       Sunny  Rainy\n",
       "Happy    0.4    0.2\n",
       "Sad      0.1    0.3"
      ]
     },
     "execution_count": 18,
     "metadata": {},
     "output_type": "execute_result"
    }
   ],
   "source": [
    "data = {\n",
    "    'Sunny': {'Happy': 0.4, 'Sad': 0.1},\n",
    "    'Rainy': {'Happy': 0.2, 'Sad': 0.3}\n",
    "}\n",
    "df = pd.DataFrame(data)\n",
    "df.head()"
   ]
  },
  {
   "cell_type": "code",
   "execution_count": 19,
   "id": "9e6cb746-4e89-456e-a944-02337d260a32",
   "metadata": {},
   "outputs": [
    {
     "name": "stdout",
     "output_type": "stream",
     "text": [
      "Joint Probability Distribution:\n",
      "       Sunny  Rainy\n",
      "Happy    0.4    0.2\n",
      "Sad      0.1    0.3\n"
     ]
    }
   ],
   "source": [
    "joint_prob = df / df.values.sum()\n",
    "print(\"Joint Probability Distribution:\")\n",
    "print(joint_prob)"
   ]
  },
  {
   "cell_type": "markdown",
   "id": "a05b37c8-8d31-4be9-afa4-da6e4d8cea0c",
   "metadata": {},
   "source": [
    "Here, the probability that it is Sunny **and** the person is Happy is 0.4(40%).\n",
    "Joint probabilities desciribe the simultaneuos occurence of events. "
   ]
  },
  {
   "cell_type": "markdown",
   "id": "17a2b718-80e1-4f6e-be56-c2e3cca27b9f",
   "metadata": {
    "jp-MarkdownHeadingCollapsed": true
   },
   "source": [
    "### 2. Marginal Probability (Uses Sum Rule)\n",
    "\n",
    "The marginal probability of a random variable X, denoted P(X), is the probability of X irrespective of the value of Y. It is obtained by summing (or integrating) over the other variable in the joint distribution\n",
    "\n",
    "#### Sum Rule:\n",
    "The marginal probability of X(probability of X) is obtained by summing over all possible outcomes of Y. This is the **sum rule**. \\\n",
    "$P(X=x)=\\sum_yP(X=x, Y=y)$"
   ]
  },
  {
   "cell_type": "code",
   "execution_count": 20,
   "id": "67ac28ab-67e3-4448-bca9-f499a8fd5de0",
   "metadata": {},
   "outputs": [
    {
     "name": "stdout",
     "output_type": "stream",
     "text": [
      "\n",
      "Marginal Probability of Weather (P(X)):\n",
      "Happy    0.6\n",
      "Sad      0.4\n",
      "dtype: float64\n",
      "\n",
      "Marginal Probability of Mood (P(Y)):\n",
      "Sunny    0.5\n",
      "Rainy    0.5\n",
      "dtype: float64\n"
     ]
    }
   ],
   "source": [
    "# X = Weather, Y = Mood\n",
    "# Marginal probabilities\n",
    "P_X = joint_prob.sum(axis=1) # along weather, i.e. 0.4+0.2 for happy, 0.1+0.3 for sad\n",
    "P_Y = joint_prob.sum(axis=0) # along mood\n",
    "\n",
    "print(\"\\nMarginal Probability of Weather (P(X)):\")\n",
    "print(P_X)\n",
    "\n",
    "print(\"\\nMarginal Probability of Mood (P(Y)):\")\n",
    "print(P_Y)"
   ]
  },
  {
   "cell_type": "markdown",
   "id": "e9b5def6-f021-4735-9abd-fb0cddab7c69",
   "metadata": {},
   "source": [
    "Here, there is a **60%** chance of being happy regardless of the weather!\n",
    "So, Marginal probabilities provide the overall likelihood of a single variable."
   ]
  },
  {
   "cell_type": "markdown",
   "id": "ed895118-f7ff-4c16-ab27-8f5093d63467",
   "metadata": {
    "jp-MarkdownHeadingCollapsed": true
   },
   "source": [
    "### 3. Conditional Probability\n",
    "\n",
    "The conditional probability of X given Y, denoted P(X∣Y), is the probability of X occurring given that Y has occurred. It is computed using the product rule:\n",
    "\n",
    "$P(X|Y)=\\frac{P(X,Y)}{P(Y)}$\n",
    "\n",
    "where, ${P(X,Y)}$ is the joint probability of X and Y. \\\n",
    "$P(X)$ is the marginal probability of X."
   ]
  },
  {
   "cell_type": "code",
   "execution_count": 21,
   "id": "01855c29-75ba-4747-a409-a36a1a44504d",
   "metadata": {},
   "outputs": [
    {
     "name": "stdout",
     "output_type": "stream",
     "text": [
      "joint_prob:\n",
      "        Sunny  Rainy\n",
      "Happy    0.4    0.2\n",
      "Sad      0.1    0.3\n",
      "\n",
      "P_X:\n",
      " Happy    0.6\n",
      "Sad      0.4\n",
      "dtype: float64\n",
      "\n",
      "Conditional Probability P(Y | X):\n",
      "          Sunny     Rainy\n",
      "Happy  0.666667  0.333333\n",
      "Sad    0.250000  0.750000\n"
     ]
    }
   ],
   "source": [
    "# Conditional Probability of Mood given Weather\n",
    "print('joint_prob:\\n',joint_prob)\n",
    "print()\n",
    "print('P_X:\\n', P_X)\n",
    "P_Y_given_X = joint_prob.div(P_X, axis=0)\n",
    "\n",
    "print(\"\\nConditional Probability P(Y | X):\")\n",
    "print(P_Y_given_X)"
   ]
  },
  {
   "cell_type": "markdown",
   "id": "e87710a4-5b28-4541-90dc-3c67c405d4d3",
   "metadata": {},
   "source": [
    "Here, $P(Y=Sunny|X=Happy)$ is: \\\n",
    "$\\frac{P(Happy, Sunny)}{P(Happy)}$ i.e. $\\frac{0.4}{0.6}=0.667$"
   ]
  },
  {
   "cell_type": "markdown",
   "id": "60982f42-29f9-41f9-bc9b-4a46dc724ce7",
   "metadata": {
    "jp-MarkdownHeadingCollapsed": true
   },
   "source": [
    "### 4. Product Rule\n",
    "\n",
    "The joint probability P(X, Y) can be derived from the conditional probability and marginal probability.\n",
    "\n",
    "$P(X, Y)=P(X|Y).P(Y)$ \\\n",
    "OR \\\n",
    "$P(X, Y)=P(Y|X).P(X)$"
   ]
  },
  {
   "cell_type": "code",
   "execution_count": 26,
   "id": "54407b00-3738-4af7-ab33-dce37dcaf9c4",
   "metadata": {},
   "outputs": [
    {
     "name": "stdout",
     "output_type": "stream",
     "text": [
      "Joint Probability from Product Rule:\n",
      "        Sunny  Rainy\n",
      "Happy    0.4    0.2\n",
      "Sad      0.1    0.3\n"
     ]
    }
   ],
   "source": [
    "joint_prob_from_product_rule = P_Y_given_X.mul(P_X, axis=0)\n",
    "\n",
    "print(\"Joint Probability from Product Rule:\\n\", joint_prob_from_product_rule)"
   ]
  },
  {
   "cell_type": "markdown",
   "id": "4561889e-f418-4a45-a796-42182b18350e",
   "metadata": {
    "jp-MarkdownHeadingCollapsed": true
   },
   "source": [
    "### 5. Visualization\n"
   ]
  },
  {
   "cell_type": "code",
   "execution_count": 24,
   "id": "ebea426e-80fb-4071-b4eb-ea2967558427",
   "metadata": {},
   "outputs": [
    {
     "data": {
      "image/png": "[encoded data removed]",
      "text/plain": [
       "<Figure size 800x600 with 2 Axes>"
      ]
     },
     "metadata": {},
     "output_type": "display_data"
    },
    {
     "data": {
      "image/png": "[encoded data removed]",
      "text/plain": [
       "<Figure size 1200x500 with 2 Axes>"
      ]
     },
     "metadata": {},
     "output_type": "display_data"
    },
    {
     "data": {
      "image/png": "[encoded data removed]",
      "text/plain": [
       "<Figure size 640x480 with 1 Axes>"
      ]
     },
     "metadata": {},
     "output_type": "display_data"
    }
   ],
   "source": [
    "\n",
    "plt.figure(figsize=(8, 6))\n",
    "sns.heatmap(joint_prob, annot=True, cmap=\"Blues\", cbar=True)\n",
    "plt.title(\"Joint Probability Heatmap\")\n",
    "plt.show()\n",
    "\n",
    "fig, ax = plt.subplots(1, 2, figsize=(12, 5))\n",
    "\n",
    "sns.barplot(x=P_X.index, y=P_X.values, ax=ax[0], palette=\"viridis\")\n",
    "ax[0].set_title(\"Marginal Probability of Weather\")\n",
    "ax[0].set_ylabel(\"Probability\")\n",
    "\n",
    "sns.barplot(x=P_Y.index, y=P_Y.values, ax=ax[1], palette=\"plasma\")\n",
    "ax[1].set_title(\"Marginal Probability of Mood\")\n",
    "ax[1].set_ylabel(\"Probability\")\n",
    "\n",
    "plt.tight_layout()\n",
    "plt.show()\n",
    "\n",
    "# Heatmap of conditional probabilities\n",
    "sns.heatmap(P_Y_given_X, annot=True, cmap=\"Greens\", cbar=False)\n",
    "plt.title(\"Conditional Probability P(Y | X)\")\n",
    "plt.xlabel(\"Weather\")\n",
    "plt.ylabel(\"Mood\")\n",
    "plt.show()"
   ]
  },
  {
   "cell_type": "markdown",
   "id": "6243d3e4-b510-42ae-9f00-9b90cf348807",
   "metadata": {
    "jp-MarkdownHeadingCollapsed": true
   },
   "source": [
    "### 6. Expectation and Variance\n",
    "* Expectation(Mean)\n",
    "  The average or expected value of a random variable X.\n",
    "  $$\n",
    "  E[X]=\\sum_{x}^{}x.P(X=x)\n",
    "  $$\n",
    "  \n",
    "* Variation\n",
    "  A measure of the spread of the random variable.\n",
    "  $$\n",
    "  Var(X)=E[X^2]-(E[X])^2\n",
    "  $$"
   ]
  },
  {
   "cell_type": "code",
   "execution_count": 30,
   "id": "d983b160-8154-4d0a-92b2-8a1819b4f814",
   "metadata": {},
   "outputs": [
    {
     "data": {
      "text/plain": [
       "(Happy    0.6\n",
       " Sad      0.4\n",
       " dtype: float64,\n",
       " Index(['Happy', 'Sad'], dtype='object'))"
      ]
     },
     "execution_count": 30,
     "metadata": {},
     "output_type": "execute_result"
    }
   ],
   "source": [
    "P_X, P_X.index "
   ]
  },
  {
   "cell_type": "code",
   "execution_count": 40,
   "id": "91f2f0b6-93d5-492c-a16c-1db28ea390d7",
   "metadata": {},
   "outputs": [
    {
     "name": "stdout",
     "output_type": "stream",
     "text": [
      "Expectation of Mood: 0.6000000000000001\n",
      "0.6000000000000001\n",
      "Variance of Mood: 0.24\n"
     ]
    }
   ],
   "source": [
    "# Assign numeric values to the moods for calculation\n",
    "mood_mapping = {\"Happy\": 1, \"Sad\": 0}\n",
    "weather_mapping = {\"Sunny\": 1, \"Rainy\": 0}\n",
    "\n",
    "# expectation for mood\n",
    "E_mood = sum([mood_mapping[mood] * P_X[mood] for mood in P_X.index]) # x*P(X=x)\n",
    "\n",
    "# variance for mood\n",
    "E_mood_squared = sum([(mood_mapping[mood]**2)* P_X[mood] for mood in P_X.index]) # E[X^2]\n",
    "Var_mood = E_mood_squared - (E_mood)**2\n",
    "\n",
    "print(f\"Expectation of Mood: {E_mood}\")\n",
    "print(E_mood_squared)\n",
    "print(f\"Variance of Mood: {Var_mood}\")"
   ]
  },
  {
   "cell_type": "code",
   "execution_count": null,
   "id": "4c79ab21-6e0e-40b6-a7e2-fdd691ae97fa",
   "metadata": {},
   "outputs": [],
   "source": []
  },
  {
   "cell_type": "code",
   "execution_count": null,
   "id": "315b6be1-8865-40aa-95d4-b9f9c493836a",
   "metadata": {},
   "outputs": [],
   "source": []
  }
 ],
 "metadata": {
  "kernelspec": {
   "display_name": "torch",
   "language": "python",
   "name": "torch"
  },
  "language_info": {
   "codemirror_mode": {
    "name": "ipython",
    "version": 3
   },
   "file_extension": ".py",
   "mimetype": "text/x-python",
   "name": "python",
   "nbconvert_exporter": "python",
   "pygments_lexer": "ipython3",
   "version": "3.11.4"
  }
 },
 "nbformat": 4,
 "nbformat_minor": 5
}
